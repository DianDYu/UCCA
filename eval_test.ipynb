{
 "cells": [
  {
   "cell_type": "code",
   "execution_count": 2,
   "metadata": {
    "collapsed": true
   },
   "outputs": [],
   "source": [
    "from to_passage import linearization_to_passage\n",
    "from parse import read_passages\n"
   ]
  },
  {
   "cell_type": "code",
   "execution_count": 3,
   "metadata": {},
   "outputs": [],
   "source": [
    "linearized = \"[ Additionally] [ ,] [ [ [ [ Carey] [ 's] ] [ [ newly] \" \\\n",
    "             \"[ slimmed] ] [ figure] ] [ began] [ to] [ change] ] [ ,] [ as]\" \\\n",
    "             \" [ [ she] [ stopped] [ [ her] [ exercise] [ routines] ] ] [ and]\" \\\n",
    "             \" [ [ gained] [ weight] [ .] ]\""
   ]
  },
  {
   "cell_type": "code",
   "execution_count": 4,
   "metadata": {},
   "outputs": [],
   "source": [
    "pred_passage = linearization_to_passage(linearized)"
   ]
  },
  {
   "cell_type": "code",
   "execution_count": 5,
   "metadata": {},
   "outputs": [],
   "source": [
    "train_file = \"sample_data/train/000000.xml\" \n",
    "passage = list(read_passages(train_file)) \n",
    "gold = passage[0]"
   ]
  },
  {
   "cell_type": "code",
   "execution_count": 6,
   "metadata": {},
   "outputs": [],
   "source": [
    "from evaluation import evaluate as evaluator"
   ]
  },
  {
   "cell_type": "code",
   "execution_count": 7,
   "metadata": {
    "collapsed": true
   },
   "outputs": [
    {
     "name": "stdout",
     "output_type": "stream",
     "text": [
      "Evaluation type: (labeled)\n==> Mutual Units:\n==> Only in guessed:\n20: Additionally\n22: Carey 's newly slimmed figure began to change\n1: Carey\n6: Carey 's\n10: Carey 's newly slimmed figure\n0: 's\n3: newly\n5: newly slimmed\n2: slimmed\n4: figure\n9: began\n8: to\n7: change\n24: as\n25: she stopped her exercise routines\n16: she\n15: stopped\n13: her\n14: her exercise routines\n12: exercise\n11: routines\n26: and\n27: gained weight\n19: gained\n18: weight\n==> Only in reference:\nL: Additionally\nH: Carey 's newly slimmed figure began to change\nA: Carey 's newly slimmed figure\nE: Carey 's\nC: Carey\nR: 's\nE: newly slimmed\nE: newly\nC: slimmed\nC: figure\nD: began\nF: to\nP: change\nL: as\nH: she stopped her exercise routines\nA: she\nP: stopped\nA: her exercise routines\nE: her\nE: exercise\nC: routines\nL: and\nH: gained weight\nP: gained\nA: weight\n\nRegular edges:\nPrecision: 0.0 (0/25)\nRecall: 0.0 (0/25)\nF1: 0.0\n\nRemote edges:\nPrecision: 1.0 (0/0)\nRecall: 0.0 (0/1)\nF1: 0.0\n\nEvaluation type: (unlabeled)\n==> Mutual Units:\nAdditionally\nCarey 's newly slimmed figure\nCarey 's\nCarey 's newly slimmed figure began to change\nCarey\n's\nnewly slimmed\nnewly\nslimmed\nfigure\nbegan\nto\nchange\nas\nshe stopped her exercise routines\nshe\nstopped\nher exercise routines\nher\nexercise\nroutines\nand\ngained weight\ngained\nweight\n==> Only in guessed:\n==> Only in reference:\n\nRegular edges:\nPrecision: 1.0 (25/25)\nRecall: 1.0 (25/25)\nF1: 1.0\n\nRemote edges:\nPrecision: 1.0 (0/0)\nRecall: 0.0 (0/1)\nF1: 0.0\n\nEvaluation type: (weak_labeled)\n==> Mutual Units:\n==> Only in guessed:\n20: Additionally\n22: Carey 's newly slimmed figure began to change\n1: Carey\n6: Carey 's\n10: Carey 's newly slimmed figure\n0: 's\n3: newly\n5: newly slimmed\n2: slimmed\n4: figure\n9: began\n8: to\n7: change\n24: as\n25: she stopped her exercise routines\n16: she\n15: stopped\n13: her\n14: her exercise routines\n12: exercise\n11: routines\n26: and\n27: gained weight\n19: gained\n18: weight\n==> Only in reference:\nL: Additionally\nH: Carey 's newly slimmed figure began to change\nA: Carey 's newly slimmed figure\nE: Carey 's\nC: Carey\nR: 's\nE: newly slimmed\nE: newly\nC: slimmed\nC: figure\nD: began\nF: to\nP: change\nL: as\nH: she stopped her exercise routines\nA: she\nP: stopped\nA: her exercise routines\nE: her\nE: exercise\nC: routines\nL: and\nH: gained weight\nP: gained\nA: weight\n\nRegular edges:\nPrecision: 0.0 (0/25)\nRecall: 0.0 (0/25)\nF1: 0.0\n\nRemote edges:\nPrecision: 1.0 (0/0)\nRecall: 0.0 (0/1)\nF1: 0.0\n\n"
     ]
    }
   ],
   "source": [
    "score = evaluator(pred_passage, gold, verbose=True, units=True, eval_types=(\"unlabeled\"))"
   ]
  },
  {
   "cell_type": "code",
   "execution_count": 9,
   "metadata": {},
   "outputs": [
    {
     "name": "stdout",
     "output_type": "stream",
     "text": [
      "Evaluation type: (unlabeled)\n\nRegular edges:\nPrecision: 1.0 (25/25)\nRecall: 1.0 (25/25)\nF1: 1.0\n\nRemote edges:\nPrecision: 1.0 (0/0)\nRecall: 0.0 (0/1)\nF1: 0.0\n\n"
     ]
    }
   ],
   "source": [
    "score.print(\"unlabeled\")"
   ]
  },
  {
   "cell_type": "code",
   "execution_count": 44,
   "metadata": {},
   "outputs": [],
   "source": [
    "pred_nodes = pred_passage.layer(\"1\").all\n",
    "gold_nodes = gold.layer(\"1\").all"
   ]
  },
  {
   "cell_type": "code",
   "execution_count": null,
   "metadata": {},
   "outputs": [
    {
     "name": "stdout",
     "output_type": "stream",
     "text": [
      "49\n"
     ]
    }
   ],
   "source": [
    "i = 0\n",
    "for node in pred_nodes:\n",
    "    for edge in node:\n",
    "        i += 1\n",
    "print(i)"
   ]
  },
  {
   "cell_type": "code",
   "execution_count": 46,
   "metadata": {},
   "outputs": [],
   "source": [
    "nodes = pred_passage.nodes"
   ]
  },
  {
   "cell_type": "code",
   "execution_count": 47,
   "metadata": {},
   "outputs": [
    {
     "data": {
      "text/plain": [
       "(1.1->1.2,\n 1.1->1.3,\n 1.1->1.15,\n 1.1->1.16,\n 1.1->1.17,\n 1.1->1.24,\n 1.1->1.25,\n 1.1->1.29)"
      ]
     },
     "execution_count": 47,
     "metadata": {},
     "output_type": "execute_result"
    }
   ],
   "source": [
    "nodes[\"1.1\"].outgoing"
   ]
  },
  {
   "cell_type": "code",
   "execution_count": 50,
   "metadata": {},
   "outputs": [
    {
     "ename": "ImportError",
     "evalue": "cannot import name 'write_out'",
     "traceback": [
      "\u001b[0;31m---------------------------------------------------------------------------\u001b[0m",
      "\u001b[0;31mImportError\u001b[0m                               Traceback (most recent call last)",
      "\u001b[0;32m<ipython-input-50-b9c7d0493d3c>\u001b[0m in \u001b[0;36m<module>\u001b[0;34m\u001b[0m\n\u001b[0;32m----> 1\u001b[0;31m \u001b[0;32mfrom\u001b[0m \u001b[0mto_passage\u001b[0m \u001b[0;32mimport\u001b[0m \u001b[0mwrite_out\u001b[0m\u001b[0;34m\u001b[0m\u001b[0;34m\u001b[0m\u001b[0m\n\u001b[0m\u001b[1;32m      2\u001b[0m \u001b[0mwrite_out\u001b[0m\u001b[0;34m(\u001b[0m\u001b[0mpassage\u001b[0m\u001b[0;34m)\u001b[0m\u001b[0;34m\u001b[0m\u001b[0;34m\u001b[0m\u001b[0m\n",
      "\u001b[0;31mImportError\u001b[0m: cannot import name 'write_out'"
     ],
     "output_type": "error"
    }
   ],
   "source": [
    "from to_passage import write_out\n",
    "write_out(passage)"
   ]
  },
  {
   "cell_type": "code",
   "execution_count": null,
   "metadata": {},
   "outputs": [],
   "source": []
  }
 ],
 "metadata": {
  "kernelspec": {
   "display_name": "Python 2",
   "language": "python",
   "name": "python2"
  },
  "language_info": {
   "codemirror_mode": {
    "name": "ipython",
    "version": 2
   },
   "file_extension": ".py",
   "mimetype": "text/x-python",
   "name": "python",
   "nbconvert_exporter": "python",
   "pygments_lexer": "ipython2",
   "version": "2.7.6"
  }
 },
 "nbformat": 4,
 "nbformat_minor": 0
}
