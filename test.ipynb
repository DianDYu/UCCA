{
 "cells": [
  {
   "cell_type": "code",
   "execution_count": 1,
   "metadata": {},
   "outputs": [],
   "source": [
    "from ucca import diffutil, ioutil, textutil, layer0, layer1\n",
    "from parse import read_passages\n"
   ]
  },
  {
   "cell_type": "code",
   "execution_count": 3,
   "metadata": {},
   "outputs": [],
   "source": [
    "train_file = \"sample_data/train/000000.xml\"\n"
   ]
  },
  {
   "cell_type": "code",
   "execution_count": 4,
   "metadata": {},
   "outputs": [],
   "source": [
    "passage = list(read_passages(train_file))"
   ]
  },
  {
   "cell_type": "code",
   "execution_count": 5,
   "metadata": {},
   "outputs": [
    {
     "data": {
      "text/plain": [
       "[<ucca.core.Passage at 0x11995d3c8>]"
      ]
     },
     "execution_count": 5,
     "metadata": {},
     "output_type": "execute_result"
    }
   ],
   "source": [
    "passage"
   ]
  },
  {
   "cell_type": "code",
   "execution_count": 18,
   "metadata": {
    "collapsed": false
   },
   "outputs": [
    {
     "name": "stdout",
     "output_type": "stream",
     "text": [
      "[L Additionally] [U ,] [H [A [E [C Carey] [R 's] ] [E [E newly] [C slimmed] ] [C figure] ] [D began] [F to] [P change] ] [U ,] [L as] [H [A she] [P stopped] [A [E her] [E exercise] [C routines] ] ] [L and] [H [A* she] [P gained] [A weight] [U .] ] \n"
     ]
    }
   ],
   "source": [
    "print(passage[0])"
   ]
  },
  {
   "cell_type": "code",
   "execution_count": 7,
   "metadata": {
    "collapsed": false
   },
   "outputs": [
    {
     "data": {
      "text/plain": [
       "<ucca.core.Passage at 0x11995d3c8>"
      ]
     },
     "execution_count": 7,
     "metadata": {},
     "output_type": "execute_result"
    }
   ],
   "source": [
    "passage[0]"
   ]
  },
  {
   "cell_type": "code",
   "execution_count": 8,
   "metadata": {},
   "outputs": [],
   "source": [
    "p = passage[0]"
   ]
  },
  {
   "cell_type": "code",
   "execution_count": 9,
   "metadata": {},
   "outputs": [
    {
     "data": {
      "text/plain": [
       "{'0': <ucca.layer0.Layer0 at 0x1199d1c18>,\n '1': <ucca.layer1.Layer1 at 0x1199d1c88>}"
      ]
     },
     "execution_count": 9,
     "metadata": {},
     "output_type": "execute_result"
    }
   ],
   "source": [
    "p._layers"
   ]
  },
  {
   "cell_type": "code",
   "execution_count": 10,
   "metadata": {},
   "outputs": [
    {
     "data": {
      "text/plain": [
       "'1'"
      ]
     },
     "execution_count": 10,
     "metadata": {},
     "output_type": "execute_result"
    }
   ],
   "source": [
    "max(p._layers)"
   ]
  },
  {
   "cell_type": "code",
   "execution_count": 11,
   "metadata": {},
   "outputs": [],
   "source": [
    "l1 = p._layers[\"1\"]"
   ]
  },
  {
   "cell_type": "code",
   "execution_count": 12,
   "metadata": {},
   "outputs": [
    {
     "data": {
      "text/plain": [
       "Node(1.1)"
      ]
     },
     "execution_count": 12,
     "metadata": {},
     "output_type": "execute_result"
    }
   ],
   "source": [
    "l1.heads[0]"
   ]
  },
  {
   "cell_type": "code",
   "execution_count": 13,
   "metadata": {},
   "outputs": [],
   "source": [
    "node0 = l1.heads[0]"
   ]
  },
  {
   "cell_type": "code",
   "execution_count": 14,
   "metadata": {},
   "outputs": [
    {
     "name": "stdout",
     "output_type": "stream",
     "text": [
      "[L Additionally] [U ,] [H [A [E [C Carey] [R 's] ] [E [E newly] [C slimmed] ] [C figure] ] [D began] [F to] [P change] ] [U ,] [L as] [H [A she] [P stopped] [A [E her] [E exercise] [C routines] ] ] [L and] [H [A* she] [P gained] [A weight] [U .] ] \n"
     ]
    }
   ],
   "source": [
    "print(node0)"
   ]
  },
  {
   "cell_type": "code",
   "execution_count": 20,
   "metadata": {},
   "outputs": [],
   "source": [
    "s = str(node0)"
   ]
  },
  {
   "cell_type": "code",
   "execution_count": 21,
   "metadata": {},
   "outputs": [
    {
     "data": {
      "text/plain": [
       "\"[L Additionally] [U ,] [H [A [E [C Carey] [R 's] ] [E [E newly] [C slimmed] ] [C figure] ] [D began] [F to] [P change] ] [U ,] [L as] [H [A she] [P stopped] [A [E her] [E exercise] [C routines] ] ] [L and] [H [A* she] [P gained] [A weight] [U .] ] \""
      ]
     },
     "execution_count": 21,
     "metadata": {},
     "output_type": "execute_result"
    }
   ],
   "source": [
    "s"
   ]
  },
  {
   "cell_type": "code",
   "execution_count": 22,
   "metadata": {},
   "outputs": [],
   "source": [
    "a = s.split()"
   ]
  },
  {
   "cell_type": "code",
   "execution_count": 23,
   "metadata": {},
   "outputs": [
    {
     "data": {
      "text/plain": [
       "['[L',\n 'Additionally]',\n '[U',\n ',]',\n '[H',\n '[A',\n '[E',\n '[C',\n 'Carey]',\n '[R',\n \"'s]\",\n ']',\n '[E',\n '[E',\n 'newly]',\n '[C',\n 'slimmed]',\n ']',\n '[C',\n 'figure]',\n ']',\n '[D',\n 'began]',\n '[F',\n 'to]',\n '[P',\n 'change]',\n ']',\n '[U',\n ',]',\n '[L',\n 'as]',\n '[H',\n '[A',\n 'she]',\n '[P',\n 'stopped]',\n '[A',\n '[E',\n 'her]',\n '[E',\n 'exercise]',\n '[C',\n 'routines]',\n ']',\n ']',\n '[L',\n 'and]',\n '[H',\n '[A*',\n 'she]',\n '[P',\n 'gained]',\n '[A',\n 'weight]',\n '[U',\n '.]',\n ']']"
      ]
     },
     "execution_count": 23,
     "metadata": {},
     "output_type": "execute_result"
    }
   ],
   "source": [
    "a"
   ]
  },
  {
   "cell_type": "code",
   "execution_count": 8,
   "metadata": {},
   "outputs": [],
   "source": [
    "train_file1 = \"sample_data/train/672001.xml\"\n",
    "passage1 = list(read_passages(train_file1))\n",
    "p1 = passage1[0]"
   ]
  },
  {
   "cell_type": "code",
   "execution_count": 9,
   "metadata": {},
   "outputs": [
    {
     "data": {
      "text/plain": [
       "<ucca.core.Passage at 0x7feb86b09828>"
      ]
     },
     "execution_count": 9,
     "metadata": {},
     "output_type": "execute_result"
    }
   ],
   "source": [
    "p1"
   ]
  },
  {
   "cell_type": "code",
   "execution_count": 10,
   "metadata": {},
   "outputs": [],
   "source": [
    "l1 = p1._layers[\"1\"]"
   ]
  },
  {
   "cell_type": "code",
   "execution_count": 11,
   "metadata": {},
   "outputs": [],
   "source": [
    "node1 = l1.heads[0]"
   ]
  },
  {
   "cell_type": "code",
   "execution_count": 12,
   "metadata": {},
   "outputs": [],
   "source": [
    "s1 = str(node1)"
   ]
  },
  {
   "cell_type": "code",
   "execution_count": 13,
   "metadata": {},
   "outputs": [
    {
     "data": {
      "text/plain": [
       "\"[L With] [H [S IMPLICIT] [A [E six] [E [C number] [E one] ] [C albums] ] [U ,] [A* Carey] ] [H [A Carey] [F is] [S tied] [A [R with] [C [C Britney Spears] [N and] [C Janet Jackson] ] [E [R in] [E the] [C United States] ] [E [R for] [E the] [E [E third] [C most] ] [E [C number] [E one] ] [C albums] [E [R for] [E a] [E female] [C artist] ] ] ] [U ,] [A [R behind] [E [C [C Madonna] [E [R with] [C seven] ] ] [N and] [C [C Barbra Streisand] [R 's] [E nine] ] ] [E chart] [C toppers] [U .] ] ] \""
      ]
     },
     "execution_count": 13,
     "metadata": {},
     "output_type": "execute_result"
    }
   ],
   "source": [
    "s1"
   ]
  },
  {
   "cell_type": "code",
   "execution_count": 16,
   "metadata": {},
   "outputs": [
    {
     "name": "stdout",
     "output_type": "stream",
     "text": [
      "['[H', '[A', '[C', 'Carey]', '[N', 'and]', '[C', '[E', '[N', 'IMPLICIT]', '[C', 'actor]', '[U', '/]', '[C', 'comedian]', ']', '[C', 'Nick', 'Cannon]', ']', ']', '[P', 'met]', ']', '[L', 'while]', '[H', '[A', 'they]', '[P', 'shot]', '[A', '[E', 'her]', '[E', 'music]', '[C', 'video]', '[E', '[R', 'for]', '[E', 'her]', '[E', '[E', 'second]', '[C', 'single]', ']', '[U', ',]', '[U', '\"]', '[C', 'Bye', 'Bye]', ']', ']', '[U', '\"]', '[U', ',]', '[A', '[R', 'on]', '[E', 'an]', '[C', 'island]', '[E', '[R', 'off]', '[E', 'the]', '[E', '[C', 'coast]', '[R', 'of]', ']', '[C', 'Antigua]', '[U', '.]', ']', ']', ']']\n"
     ]
    }
   ],
   "source": [
    "train_file1 = \"sample_data/train/672003.xml\"\n",
    "passage1 = list(read_passages(train_file1))\n",
    "p1 = passage1[0]\n",
    "sent_passage = p1\n",
    "l1 = sent_passage._layers[\"1\"]\n",
    "node0 = l1.heads[0]\n",
    "linearized = str(node0).split()\n",
    "print(linearized)"
   ]
  },
  {
   "cell_type": "code",
   "execution_count": 18,
   "metadata": {},
   "outputs": [
    {
     "name": "stdout",
     "output_type": "stream",
     "text": [
      "[H\n[A\n[C\nCarey]\n[N\nand]\n[C\n[E\n[N\nIMPLICIT]\n[C\nactor]\n[U\n/]\n[C\ncomedian]\n]\n[C\nNick\nCannon]\n]\n]\n[P\nmet]\n]\n[L\nwhile]\n[H\n[A\nthey]\n[P\nshot]\n[A\n[E\nher]\n[E\nmusic]\n[C\nvideo]\n[E\n[R\nfor]\n[E\nher]\n[E\n[E\nsecond]\n[C\nsingle]\n]\n[U\n,]\n[U\n\"]\n[C\nBye\nBye]\n]\n]\n[U\n\"]\n[U\n,]\n[A\n[R\non]\n[E\nan]\n[C\nisland]\n[E\n[R\noff]\n[E\nthe]\n[E\n[C\ncoast]\n[R\nof]\n]\n[C\nAntigua]\n[U\n.]\n]\n]\n]\n"
     ]
    }
   ],
   "source": [
    "for i in linearized:\n",
    "    print(i)"
   ]
  },
  {
   "cell_type": "code",
   "execution_count": 21,
   "metadata": {},
   "outputs": [
    {
     "name": "stdout",
     "output_type": "stream",
     "text": [
      "['Carey', 'and', 'actor', '/', 'comedian', 'Nick', 'Cannon', 'met', 'while', 'they', 'shot', 'her', 'music', 'video', 'for', 'her', 'second', 'single', ',', '\"', 'Bye', 'Bye', '\"', ',', 'on', 'an', 'island', 'off', 'the', 'coast', 'of', 'Antigua', '.']\n"
     ]
    }
   ],
   "source": [
    "l0 = sent_passage._layers[\"0\"]\n",
    "words_in_text = [i.text for i in l0.all]\n",
    "print(words_in_text)"
   ]
  },
  {
   "cell_type": "code",
   "execution_count": 23,
   "metadata": {},
   "outputs": [
    {
     "name": "stdout",
     "output_type": "stream",
     "text": [
      "[H\n[D\n[R\nOn]\n[C\n[X\nApril]\n[X\n30]\n[U\n[X\n,]\n]\n2008]\n]\n[U\n,]\n[A\nCarey]\n[P\nmarried]\n[A\nCannon]\n[A\n[R\nat]\n[E\nher]\n[E\nprivate]\n[C\nestate]\n[E\n[R\non]\n[C\n[X\nWindermere]\n[X\nIsland]\n]\n[E\n[R\nin]\n[C\n[X\nThe]\n[X\nBahamas]\n]\n[U\n.]\n]\n]\n]\n]\n"
     ]
    }
   ],
   "source": [
    "l = ['[H', '[D', '[R', 'On]', '[C', '[X', 'April]', '[X', '30]', '[U', '[X', ',]', ']', '2008]', ']', '[U', ',]', '[A', 'Carey]', '[P', 'married]', '[A', 'Cannon]', '[A', '[R', 'at]', '[E', 'her]', '[E', 'private]', '[C', 'estate]', '[E', '[R', 'on]', '[C', '[X', 'Windermere]', '[X', 'Island]', ']', '[E', '[R', 'in]', '[C', '[X', 'The]', '[X', 'Bahamas]', ']', '[U', '.]', ']', ']', ']', ']']\n",
    "for i in l:\n",
    "    print(i)"
   ]
  },
  {
   "cell_type": "code",
   "execution_count": 50,
   "metadata": {},
   "outputs": [
    {
     "name": "stdout",
     "output_type": "stream",
     "text": [
      "[H [A [E The] [C incident] ] [P [F made] ... [C [C nervous] [U ,] [C moody] [U ,] [N and] [C [C suspicious] [E [R of] [C people] [U .] ] ] ] ] [A [E the] [E teenage] [C Hepburn] ] ] \n"
     ]
    }
   ],
   "source": [
    "train_file1 = \"/home/dianyu/Desktop/UCCA/train&dev-data-17.9/train_xml/UCCA_English-Wiki/123003.xml\"\n",
    "passage1 = list(read_passages(train_file1))\n",
    "p1 = passage1[0]\n",
    "print(p1)"
   ]
  },
  {
   "cell_type": "code",
   "execution_count": 51,
   "metadata": {},
   "outputs": [
    {
     "name": "stdout",
     "output_type": "stream",
     "text": [
      "[L After] [H [D [E four] [C years] ] [S [R in] [E the] [C theatre] ] ... [A* her] ] [U ,] [H [A [E favorable] [C reviews] [E [R of] [C [A her] [P work] [A [R on] [C Broadway] ] ] ] ] [D brought] [A her] [F to] [P [E the] [C attention] ] [A [R of] [C Hollywood] [U .] ] ] \n"
     ]
    }
   ],
   "source": [
    "train_file1 = \"/home/dianyu/Desktop/UCCA/train&dev-data-17.9/train_xml/UCCA_English-Wiki/114005.xml\"\n",
    "passage1 = list(read_passages(train_file1))\n",
    "p1 = passage1[0]\n",
    "print(p1)"
   ]
  },
  {
   "cell_type": "code",
   "execution_count": 54,
   "metadata": {},
   "outputs": [
    {
     "name": "stdout",
     "output_type": "stream",
     "text": [
      "She planned to leave the theatre behind , but began to miss the work and quickly resumed the understudy role in Holiday , which she held for six months .\n[H [A She] [P planned] [A [A* She] [F to] [P leave ... behind] [A [E the] [C theatre] ] ] ] [U ,] [L but] [H [A* She] [D began] [F to] [P miss] [A [E the] [C work] ] ] [L and] [H [A* She] [D quickly] [P resumed] [A [E the] [E understudy] [C role] [E [R in] [C Holiday] ] ] ] [U ,] [L which] [H [A* [E the] [E understudy] [C role] [E [R in] [C Holiday] ] ] [A she] [P held] [D [R for] [E six] [C months] [U .] ] ] \n"
     ]
    }
   ],
   "source": [
    "train_file1 = \"/home/dianyu/Desktop/UCCA/train&dev-data-17.9/train_xml/UCCA_English-Wiki/124013.xml\"\n",
    "passage1 = list(read_passages(train_file1))\n",
    "p1 = passage1[0]\n",
    "l0 = p1.layer(\"0\")\n",
    "words_in_text = \" \".join(i.text for i in l0.all)\n",
    "print(words_in_text)\n",
    "print(p1)"
   ]
  },
  {
   "cell_type": "code",
   "execution_count": 55,
   "metadata": {},
   "outputs": [
    {
     "name": "stdout",
     "output_type": "stream",
     "text": [
      "A Woman Rebels ( 1937 ) followed , a Victorian era drama where Hepburn 's character fights against convention .\n[H [A [C A Woman Rebels] [U (] [E [P IMPLICIT] [A* A Woman Rebels] [D 1937] ] ... [E [E a] [E [E Victorian] [C era] ] [C drama] [E [R where] [A [E [C Hepburn] [R 's] ] [C character] ] [P fights] [A [R against] [C convention] [U .] ] ] ] ] [U )] [P followed] [U ,] ] \n"
     ]
    }
   ],
   "source": [
    "train_file1 = \"/home/dianyu/Desktop/UCCA/train&dev-data-17.9/train_xml/UCCA_English-Wiki/129011.xml\"\n",
    "passage1 = list(read_passages(train_file1))\n",
    "p1 = passage1[0]\n",
    "l0 = p1.layer(\"0\")\n",
    "words_in_text = \" \".join(i.text for i in l0.all)\n",
    "print(words_in_text)\n",
    "print(p1)"
   ]
  },
  {
   "cell_type": "code",
   "execution_count": 56,
   "metadata": {},
   "outputs": [
    {
     "name": "stdout",
     "output_type": "stream",
     "text": [
      "On April 3 , 1921 , while visiting friends in Greenwich Village , Hepburn discovered the body of her older brother Tom , whom she adored , dead from an apparent suicide .\n[H [D [R On] [E April] [E 3] [U ,] [C 1921] ] ... [A Hepburn] [P discovered] [A [E the] [C body] [E [A [R of] [E her] [E older] [E brother] [C Tom] [U ,] [E [A* Tom] [F whom] [A she] [P adored] ] ] [U ,] [P dead] [A [R from] [C [A* Tom] [D [E an] [C apparent] ] [P suicide] [U .] ] ] ] ] ] [U ,] [L while] [H [P visiting] [A friends] [A [R in] [C Greenwich Village] ] [U ,] [A* Hepburn] ] \n"
     ]
    }
   ],
   "source": [
    "train_file1 = \"/home/dianyu/Desktop/UCCA/train&dev-data-17.9/train_xml/UCCA_English-Wiki/123000.xml\"\n",
    "passage1 = list(read_passages(train_file1))\n",
    "p1 = passage1[0]\n",
    "l0 = p1.layer(\"0\")\n",
    "words_in_text = \" \".join(i.text for i in l0.all)\n",
    "print(words_in_text)\n",
    "print(p1)"
   ]
  },
  {
   "cell_type": "code",
   "execution_count": 61,
   "metadata": {
    "collapsed": false
   },
   "outputs": [
    {
     "name": "stdout",
     "output_type": "stream",
     "text": [
      "Hepburn was unhappy with her test scene , and sent material from Holiday instead . Director George Cukor was impressed by what he saw : \" There was this odd creature , \" he recalled , \" she was unlike anybody I 'd ever heard .\n[H [A Hepburn] [F was] [P unhappy] [A [R with] [A her] [P [E test] [C scene] ] ] ] [U ,] [L [F and] ... [C instead] ] [H [A* Hepburn] [P sent] [A [E [C material] [R from] ] [C Holiday] ] ] ... [U .] [H [A [E Director] [C George Cukor] ] [F was] [P impressed] [A [R by] [C [A IMPLICIT] [F what] [A he] [P saw] ] ] ] [U :] [U \"] [H [A [H [R There] [S was] [A [E this] [E odd] [C creature] ] ] ... [H [A she] [F was] [S unlike] [A [C anybody] [E [A* anybody] [A I] [F 'd] [D ever] [P heard] [U .] ] ] ] ] [U ,] [U \"] [A he] [P recalled] [U ,] [U \"] ] \n"
     ]
    }
   ],
   "source": [
    "train_file1 = \"/home/dianyu/Desktop/UCCA/train&dev-data-17.9/train_xml/UCCA_English-Wiki/126001.xml\"\n",
    "passage1 = list(read_passages(train_file1))\n",
    "p1 = passage1[0]\n",
    "l0 = p1.layer(\"0\")\n",
    "words_in_text = \" \".join(i.text for i in l0.all)\n",
    "print(words_in_text)\n",
    "print(p1)"
   ]
  },
  {
   "cell_type": "code",
   "execution_count": 59,
   "metadata": {},
   "outputs": [
    {
     "name": "stdout",
     "output_type": "stream",
     "text": [
      "It had a successful tour , but uncertain about the script and unwilling to risk failure after the disaster of The Lake , Hepburn decided against taking the show to Broadway .\n[H [A It] [P had] [A [E a] [E successful] [C tour] ] ] [U ,] [L but] [H [P uncertain] [A [R about] [E the] [C script] ] ... [A* Hepburn] ] [L and] [H [P unwilling] [A [H [R to] [P risk failure] ... [A* Hepburn] ] [L after] [H [P [E the] [C disaster] ] [A [F of] [C The Lake] ] ] [U ,] ] [A* Hepburn] ] [H [A Hepburn] [P decided] [D against] [A [A* Hepburn] [P taking] [A [E the] [C show] ] [A [R to] [C Broadway] [U .] ] ] ] \n"
     ]
    }
   ],
   "source": [
    "train_file1 = \"/home/dianyu/Desktop/UCCA/train&dev-data-17.9/train_xml/UCCA_English-Wiki/130005.xml\"\n",
    "passage1 = list(read_passages(train_file1))\n",
    "p1 = passage1[0]\n",
    "l0 = p1.layer(\"0\")\n",
    "words_in_text = \" \".join(i.text for i in l0.all)\n",
    "print(words_in_text)\n",
    "print(p1)"
   ]
  },
  {
   "cell_type": "code",
   "execution_count": 3,
   "metadata": {
    "collapsed": true
   },
   "outputs": [
    {
     "name": "stdout",
     "output_type": "stream",
     "text": [
      "Hepburn turned it down , and instead opted to buy herself out of her contract for $ 75,000 .\n[H [A Hepburn] [P turned ... down] [A it] ] [U ,] [L and] [H [A* Hepburn] [D instead] [P opted] [A [A* Hepburn] [F to] [P [C buy] ... [E out] ] [D herself] ... [A [R of] [E her] [C contract] ] [A [R for] [U $] [C 75,000] [U .] ] ] ] \n"
     ]
    }
   ],
   "source": [
    "train_file1 = \"/home/dianyu/Desktop/UCCA/train&dev-data-17.9/train_xml/UCCA_English-Wiki/131002.xml\"\n",
    "passage1 = list(read_passages(train_file1))\n",
    "p1 = passage1[0]\n",
    "l0 = p1.layer(\"0\")\n",
    "words_in_text = \" \".join(i.text for i in l0.all)\n",
    "print(words_in_text)\n",
    "print(p1)"
   ]
  },
  {
   "cell_type": "code",
   "execution_count": 4,
   "metadata": {},
   "outputs": [
    {
     "name": "stdout",
     "output_type": "stream",
     "text": [
      "When she was seven years old , Jolie had a small part in Lookin ' to Get Out ( 1982 ) , a movie co - written by and starring her father , Jon Voight .\n[L When] [H [A she] [F was] [S [E [E seven] [C years] ] [C old] ] ] [U ,] [H [A Jolie] [P had] [A [E a] [E small] [C part] ] [A [R in] [C Lookin [U '] to Get Out] [U (] [E [P IMPLICIT] [A* Lookin [U '] to Get Out] [D 1982] ] [U )] [U ,] [E [E a] [C movie] [E [A* movie] [P [C [E co] [U -] [C written] ] ... [N and] [C starring] ] [A [R by] ... [E [E her] [C father] ] [U ,] [C Jon Voight] [U .] ] ] ] ] ] \n"
     ]
    }
   ],
   "source": [
    "train_file1 = \"/home/dianyu/Desktop/UCCA/train&dev-data-17.9/train_xml/UCCA_English-Wiki/105000.xml\"\n",
    "passage1 = list(read_passages(train_file1))\n",
    "p1 = passage1[0]\n",
    "l0 = p1.layer(\"0\")\n",
    "words_in_text = \" \".join(i.text for i in l0.all)\n",
    "print(words_in_text)\n",
    "print(p1)"
   ]
  },
  {
   "cell_type": "code",
   "execution_count": 13,
   "metadata": {},
   "outputs": [
    {
     "name": "stdout",
     "output_type": "stream",
     "text": [
      "Her next film , an adaptation of Edward Albee 's A Delicate Balance ( 1973 ) directed by Tony Richardson , had a small release and received generally unfavorable reviews .\n[H [A [C [A Her] [D next] [P film] ] ... [E [E an] [C adaptation] [E [R of] [E [C Edward Albee] [R 's] ] [C A Delicate Balance] ] [U (] [E 1973] ] [U )] [E [A* film] [P directed] [A [R by] [C Tony Richardson] ] ] ] [U ,] [F had] [P [E a] [E small] [C release] ] ] [U ,] ... [L and] [H [A* film] [P received] [D generally] [A [E unfavorable] [C reviews] [U .] ] ] \n"
     ]
    }
   ],
   "source": [
    "train_file1 = \"/home/dianyu/Desktop/UCCA/train&dev-data-17.9/train_xml/UCCA_English-Wiki/141005.xml\"\n",
    "passage1 = list(read_passages(train_file1))\n",
    "p1 = passage1[0]\n",
    "l0 = p1.layer(\"0\")\n",
    "words_in_text = \" \".join(i.text for i in l0.all)\n",
    "print(words_in_text)\n",
    "print(p1)"
   ]
  },
  {
   "cell_type": "code",
   "execution_count": 15,
   "metadata": {},
   "outputs": [
    {
     "name": "stdout",
     "output_type": "stream",
     "text": [
      "She felt that motherhood should be a full - time commitment , and it was not one she was willing to make .\n[H [A She] [P felt] [A [H [R that] [A motherhood] [S [F should] ... [E a] ... [C commitment] ] [F be] ... [D full [U -] time] ] [U ,] [L and] [H [A it] [S was] [D not] [A [A* commitment] [F one] [A she] [F was] [P willing] [A [F to] [P make] [U .] ] ] ] ] ] \n"
     ]
    }
   ],
   "source": [
    "train_file1 = \"/home/dianyu/Desktop/UCCA/train&dev-data-17.9/train_xml/UCCA_English-Wiki/148001.xml\"\n",
    "passage1 = list(read_passages(train_file1))\n",
    "p1 = passage1[0]\n",
    "l0 = p1.layer(\"0\")\n",
    "words_in_text = \" \".join(i.text for i in l0.all)\n",
    "print(words_in_text)\n",
    "print(p1)"
   ]
  },
  {
   "cell_type": "code",
   "execution_count": 5,
   "metadata": {},
   "outputs": [
    {
     "name": "stdout",
     "output_type": "stream",
     "text": [
      "[Node(0.1), Node(0.2), Node(0.3), Node(0.4), Node(0.5), Node(0.6), Node(0.7), Node(0.8), Node(0.9), Node(0.10), Node(0.11), Node(0.12), Node(0.13), Node(0.14), Node(0.15), Node(0.16), Node(0.17), Node(0.18), Node(0.19), Node(0.20), Node(0.21), Node(0.22), Node(0.23)]\n"
     ]
    }
   ],
   "source": [
    "train_file1 = \"/home/dianyu/Desktop/UCCA/train&dev-data-17.9/train_xml/UCCA_English-Wiki/104007.xml\"\n",
    "passage1 = list(read_passages(train_file1))\n",
    "p1 = passage1[0]\n",
    "l0 = p1.layer(\"0\")\n",
    "words_in_text = \" \".join(i.text for i in l0.all)\n",
    "print(l0.all)"
   ]
  },
  {
   "cell_type": "code",
   "execution_count": 11,
   "metadata": {},
   "outputs": [
    {
     "name": "stdout",
     "output_type": "stream",
     "text": [
      "PRP\nVBD\nCC\nPRP\nVBD\nIN\nPRP\nIN\nNNP\nNNP\n:\nNNP\nNNP\n-LRB-\nCD\n-RRB-\n,\nCC\nPRP$\nNN\nRB\nVBD\n.\n"
     ]
    }
   ],
   "source": [
    "for node in l0.all:\n",
    "    print(node.extra[\"tag\"])\n",
    "    # print(node.attrib())"
   ]
  },
  {
   "cell_type": "code",
   "execution_count": 12,
   "metadata": {},
   "outputs": [
    {
     "name": "stdout",
     "output_type": "stream",
     "text": [
      "On April 30 , 2008 , Carey married Cannon at her private estate on Windermere Island in The Bahamas .\n[H [D [R On] [C April 30 [U ,] 2008] ] [U ,] [A Carey] [P married] [A Cannon] [A [R at] [E her] [E private] [C estate] [E [R on] [C Windermere Island] [E [R in] [C The Bahamas] [U .] ] ] ] ] \n"
     ]
    }
   ],
   "source": [
    "train_file1 = \"/home/dianyu/Desktop/UCCA/train&dev-data-17.9/train_xml/UCCA_English-Wiki/672004.xml\"\n",
    "passage1 = list(read_passages(train_file1))\n",
    "p1 = passage1[0]\n",
    "l0 = p1.layer(\"0\")\n",
    "words_in_text = \" \".join(i.text for i in l0.all)\n",
    "print(words_in_text)\n",
    "print(p1)"
   ]
  },
  {
   "cell_type": "code",
   "execution_count": 13,
   "metadata": {},
   "outputs": [
    {
     "name": "stdout",
     "output_type": "stream",
     "text": [
      "['[H', '[D', '[R', 'On]', '[C', '[X', 'April]', '[X', '30]', '[X', ',]', '[X', '2008]', ']', ']', '[U', ',]', '[A', 'Carey]', '[P', 'married]', '[A', 'Cannon]', '[A', '[R', 'at]', '[E', 'her]', '[E', 'private]', '[C', 'estate]', '[E', '[R', 'on]', '[C', '[X', 'Windermere]', '[X', 'Island]', ']', '[E', '[R', 'in]', '[C', '[X', 'The]', '[X', 'Bahamas]', ']', '[U', '.]', ']', ']', ']', ']']\n"
     ]
    }
   ],
   "source": [
    "a = ['[H', '[D', '[R', 'On]', '[C', '[X', 'April]', '[X', '30]', '[X', ',]', '[X', '2008]', ']', ']', '[U', ',]', '[A', 'Carey]', '[P', 'married]', '[A', 'Cannon]', '[A', '[R', 'at]', '[E', 'her]', '[E', 'private]', '[C', 'estate]', '[E', '[R', 'on]', '[C', '[X', 'Windermere]', '[X', 'Island]', ']', '[E', '[R', 'in]', '[C', '[X', 'The]', '[X', 'Bahamas]', ']', '[U', '.]', ']', ']', ']', ']']\n",
    "print(a)"
   ]
  },
  {
   "cell_type": "code",
   "execution_count": 18,
   "metadata": {},
   "outputs": [
    {
     "name": "stdout",
     "output_type": "stream",
     "text": [
      "['[H', '[D', '[R', 'On]', '[C', '[X', 'April]', '[X', '30]', '[X', ',]', '[X', '2008]', ']', ']', '[U', ',]', '[A', 'Carey]', '[P', 'married]', '[A', 'Cannon]', '[A', '[R', 'at]', '[E', 'her]', '[E', 'private]', '[C', 'estate]', '[E', '[R', 'on]', '[C', '[X', 'Windermere]', '[X', 'Island]', ']', '[E', '[R', 'in]', '[C', '[X', 'The]', '[X', 'Bahamas]', ']', '[U', '.]', ']', ']', ']', ']']\n"
     ]
    }
   ],
   "source": [
    "a = ['[H', '[D', '[R', 'On]', '[C', '[X', 'April]', '[X', '30]', '[X', ',]', '[X', '2008]', ']', ']', '[U', ',]', '[A', 'Carey]', '[P', 'married]', '[A', 'Cannon]', '[A', '[R', 'at]', '[E', 'her]', '[E', 'private]', '[C', 'estate]', '[E', '[R', 'on]', '[C', '[X', 'Windermere]', '[X', 'Island]', ']', '[E', '[R', 'in]', '[C', '[X', 'The]', '[X', 'Bahamas]', ']', '[U', '.]', ']', ']', ']', ']']\n",
    "print(a)"
   ]
  },
  {
   "cell_type": "code",
   "execution_count": 4,
   "metadata": {},
   "outputs": [
    {
     "name": "stdout",
     "output_type": "stream",
     "text": [
      "She felt isolated at Beverly Hills High School among the children of some of the area 's affluent families , as her mother survived on a more modest income , and she was teased by other students , who targeted her for being extremely thin and for wearing glasses and braces .\n[H [A She] [P felt] [A isolated] [A [R at] [E Beverly Hills] [E High] [C School] ] [A [R among] [E the] [C children] [E [R of] [E [C some] [F of] ] [E [E the] [C area] [R 's] ] [E affluent] [C families] ] ] ] [U ,] [L as] [H [A [E her] [C mother] ] [P survived] [A [R on] [E a] [E [E more] [C modest] ] [C income] ] ] [U ,] [L and] [H [A she] [F was] [P teased] [A [R by] [E other] [C students] [U ,] [E [A* students] [R who] [P targeted] [A her] [A [C [A* her] [R for] [F being] [D extremely] [S thin] ] [N and] [C [A* her] [R for] [P wearing] [A [C glasses] [N and] [C braces] [U .] ] ] ] ] ] ] \n"
     ]
    }
   ],
   "source": [
    "train_file1 = \"/home/dianyu/Desktop/UCCA/train&dev-data-17.9/train_xml/UCCA_English-Wiki/104001.xml\"\n",
    "passage1 = list(read_passages(train_file1))\n",
    "p1 = passage1[0]\n",
    "l0 = p1.layer(\"0\")\n",
    "words_in_text = \" \".join(i.text for i in l0.all)\n",
    "print(words_in_text)\n",
    "print(p1)"
   ]
  },
  {
   "cell_type": "code",
   "execution_count": 4,
   "metadata": {},
   "outputs": [],
   "source": [
    "from ucca import diffutil, ioutil, textutil, layer0, layer1"
   ]
  },
  {
   "cell_type": "code",
   "execution_count": 5,
   "metadata": {},
   "outputs": [],
   "source": [
    "train_file1 = \"/home/dianyu/Desktop/UCCA/train&dev-data-17.9/train_xml/UCCA_English-Wiki/104001.xml\"\n"
   ]
  },
  {
   "cell_type": "code",
   "execution_count": 18,
   "metadata": {},
   "outputs": [],
   "source": [
    "pred = list(ioutil.read_files_and_dirs(train_file1))[0]"
   ]
  },
  {
   "cell_type": "code",
   "execution_count": 14,
   "metadata": {},
   "outputs": [
    {
     "name": "stdout",
     "output_type": "stream",
     "text": [
      "[H [A She] [P felt] [A isolated] [A [R at] [E Beverly Hills] [E High] [C School] ] [A [R among] [E the] [C children] [E [R of] [E [C some] [F of] ] [E [E the] [C area] [R 's] ] [E affluent] [C families] ] ] ] [U ,] [L as] [H [A [E her] [C mother] ] [P survived] [A [R on] [E a] [E [E more] [C modest] ] [C income] ] ] [U ,] [L and] [H [A she] [F was] [P teased] [A [R by] [E other] [C students] [U ,] [E [A* students] [R who] [P targeted] [A her] [A [C [A* her] [R for] [F being] [D extremely] [S thin] ] [N and] [C [A* her] [R for] [P wearing] [A [C glasses] [N and] [C braces] [U .] ] ] ] ] ] ] \n"
     ]
    }
   ],
   "source": [
    "print(pred[0])"
   ]
  },
  {
   "cell_type": "code",
   "execution_count": 19,
   "metadata": {},
   "outputs": [],
   "source": [
    "tgt = pred"
   ]
  },
  {
   "cell_type": "code",
   "execution_count": 16,
   "metadata": {},
   "outputs": [],
   "source": [
    "from evaluation import evaluate as evaluator"
   ]
  },
  {
   "cell_type": "code",
   "execution_count": 20,
   "metadata": {},
   "outputs": [],
   "source": [
    "score = evaluator(pred, tgt, eval_types=(\"labeled\"))"
   ]
  },
  {
   "cell_type": "code",
   "execution_count": 21,
   "metadata": {},
   "outputs": [],
   "source": [
    "eval_score = score.evaluators['labeled']"
   ]
  },
  {
   "cell_type": "code",
   "execution_count": 22,
   "metadata": {},
   "outputs": [],
   "source": [
    "primary, remote = eval_score.results.items()"
   ]
  },
  {
   "cell_type": "code",
   "execution_count": 23,
   "metadata": {},
   "outputs": [
    {
     "data": {
      "text/plain": [
       "(<ucca.constructions.Construction at 0x7f87c3720c50>,\n <evaluation.SummaryStatistics at 0x7f87c3621f60>)"
      ]
     },
     "execution_count": 23,
     "metadata": {},
     "output_type": "execute_result"
    }
   ],
   "source": [
    "primary"
   ]
  },
  {
   "cell_type": "code",
   "execution_count": 24,
   "metadata": {},
   "outputs": [
    {
     "data": {
      "text/plain": [
       "(<ucca.constructions.Construction at 0x7f87c3720c88>,\n <evaluation.SummaryStatistics at 0x7f87c3621940>)"
      ]
     },
     "execution_count": 24,
     "metadata": {},
     "output_type": "execute_result"
    }
   ],
   "source": [
    "remote"
   ]
  },
  {
   "cell_type": "code",
   "execution_count": 25,
   "metadata": {},
   "outputs": [],
   "source": [
    "remote_stats = remote[1]"
   ]
  },
  {
   "cell_type": "code",
   "execution_count": 26,
   "metadata": {},
   "outputs": [],
   "source": [
    "remote_matches = remote_stats.num_matches\n",
    "remote_guessed = remote_stats.num_guessed\n",
    "remote_ref = remote_stats.num_ref"
   ]
  },
  {
   "cell_type": "code",
   "execution_count": 29,
   "metadata": {},
   "outputs": [
    {
     "data": {
      "text/plain": [
       "2"
      ]
     },
     "execution_count": 29,
     "metadata": {},
     "output_type": "execute_result"
    }
   ],
   "source": [
    "remote_ref"
   ]
  },
  {
   "cell_type": "code",
   "execution_count": null,
   "metadata": {},
   "outputs": [],
   "source": []
  }
 ],
 "metadata": {
  "kernelspec": {
   "display_name": "Python 3",
   "language": "python",
   "name": "python3"
  },
  "language_info": {
   "codemirror_mode": {
    "name": "ipython",
    "version": 3
   },
   "file_extension": ".py",
   "mimetype": "text/x-python",
   "name": "python",
   "nbconvert_exporter": "python",
   "pygments_lexer": "ipython3",
   "version": "3.6.7"
  }
 },
 "nbformat": 4,
 "nbformat_minor": 1
}
