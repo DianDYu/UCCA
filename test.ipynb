{
 "cells": [
  {
   "cell_type": "code",
   "execution_count": 1,
   "metadata": {},
   "outputs": [],
   "source": [
    "from ucca import diffutil, ioutil, textutil, layer0, layer1\n",
    "from parse import read_passages\n"
   ]
  },
  {
   "cell_type": "code",
   "execution_count": 3,
   "metadata": {},
   "outputs": [],
   "source": [
    "train_file = \"sample_data/train/000000.xml\"\n"
   ]
  },
  {
   "cell_type": "code",
   "execution_count": 4,
   "metadata": {},
   "outputs": [],
   "source": [
    "passage = list(read_passages(train_file))"
   ]
  },
  {
   "cell_type": "code",
   "execution_count": 5,
   "metadata": {},
   "outputs": [
    {
     "data": {
      "text/plain": [
       "[<ucca.core.Passage at 0x11995d3c8>]"
      ]
     },
     "execution_count": 5,
     "metadata": {},
     "output_type": "execute_result"
    }
   ],
   "source": [
    "passage"
   ]
  },
  {
   "cell_type": "code",
   "execution_count": 18,
   "metadata": {
    "collapsed": false
   },
   "outputs": [
    {
     "name": "stdout",
     "output_type": "stream",
     "text": [
      "[L Additionally] [U ,] [H [A [E [C Carey] [R 's] ] [E [E newly] [C slimmed] ] [C figure] ] [D began] [F to] [P change] ] [U ,] [L as] [H [A she] [P stopped] [A [E her] [E exercise] [C routines] ] ] [L and] [H [A* she] [P gained] [A weight] [U .] ] \n"
     ]
    }
   ],
   "source": [
    "print(passage[0])"
   ]
  },
  {
   "cell_type": "code",
   "execution_count": 7,
   "metadata": {
    "collapsed": false
   },
   "outputs": [
    {
     "data": {
      "text/plain": [
       "<ucca.core.Passage at 0x11995d3c8>"
      ]
     },
     "execution_count": 7,
     "metadata": {},
     "output_type": "execute_result"
    }
   ],
   "source": [
    "passage[0]"
   ]
  },
  {
   "cell_type": "code",
   "execution_count": 8,
   "metadata": {},
   "outputs": [],
   "source": [
    "p = passage[0]"
   ]
  },
  {
   "cell_type": "code",
   "execution_count": 9,
   "metadata": {},
   "outputs": [
    {
     "data": {
      "text/plain": [
       "{'0': <ucca.layer0.Layer0 at 0x1199d1c18>,\n '1': <ucca.layer1.Layer1 at 0x1199d1c88>}"
      ]
     },
     "execution_count": 9,
     "metadata": {},
     "output_type": "execute_result"
    }
   ],
   "source": [
    "p._layers"
   ]
  },
  {
   "cell_type": "code",
   "execution_count": 10,
   "metadata": {},
   "outputs": [
    {
     "data": {
      "text/plain": [
       "'1'"
      ]
     },
     "execution_count": 10,
     "metadata": {},
     "output_type": "execute_result"
    }
   ],
   "source": [
    "max(p._layers)"
   ]
  },
  {
   "cell_type": "code",
   "execution_count": 11,
   "metadata": {},
   "outputs": [],
   "source": [
    "l1 = p._layers[\"1\"]"
   ]
  },
  {
   "cell_type": "code",
   "execution_count": 12,
   "metadata": {},
   "outputs": [
    {
     "data": {
      "text/plain": [
       "Node(1.1)"
      ]
     },
     "execution_count": 12,
     "metadata": {},
     "output_type": "execute_result"
    }
   ],
   "source": [
    "l1.heads[0]"
   ]
  },
  {
   "cell_type": "code",
   "execution_count": 13,
   "metadata": {},
   "outputs": [],
   "source": [
    "node0 = l1.heads[0]"
   ]
  },
  {
   "cell_type": "code",
   "execution_count": 14,
   "metadata": {},
   "outputs": [
    {
     "name": "stdout",
     "output_type": "stream",
     "text": [
      "[L Additionally] [U ,] [H [A [E [C Carey] [R 's] ] [E [E newly] [C slimmed] ] [C figure] ] [D began] [F to] [P change] ] [U ,] [L as] [H [A she] [P stopped] [A [E her] [E exercise] [C routines] ] ] [L and] [H [A* she] [P gained] [A weight] [U .] ] \n"
     ]
    }
   ],
   "source": [
    "print(node0)"
   ]
  },
  {
   "cell_type": "code",
   "execution_count": 20,
   "metadata": {},
   "outputs": [],
   "source": [
    "s = str(node0)"
   ]
  },
  {
   "cell_type": "code",
   "execution_count": 21,
   "metadata": {},
   "outputs": [
    {
     "data": {
      "text/plain": [
       "\"[L Additionally] [U ,] [H [A [E [C Carey] [R 's] ] [E [E newly] [C slimmed] ] [C figure] ] [D began] [F to] [P change] ] [U ,] [L as] [H [A she] [P stopped] [A [E her] [E exercise] [C routines] ] ] [L and] [H [A* she] [P gained] [A weight] [U .] ] \""
      ]
     },
     "execution_count": 21,
     "metadata": {},
     "output_type": "execute_result"
    }
   ],
   "source": [
    "s"
   ]
  },
  {
   "cell_type": "code",
   "execution_count": 22,
   "metadata": {},
   "outputs": [],
   "source": [
    "a = s.split()"
   ]
  },
  {
   "cell_type": "code",
   "execution_count": 23,
   "metadata": {},
   "outputs": [
    {
     "data": {
      "text/plain": [
       "['[L',\n 'Additionally]',\n '[U',\n ',]',\n '[H',\n '[A',\n '[E',\n '[C',\n 'Carey]',\n '[R',\n \"'s]\",\n ']',\n '[E',\n '[E',\n 'newly]',\n '[C',\n 'slimmed]',\n ']',\n '[C',\n 'figure]',\n ']',\n '[D',\n 'began]',\n '[F',\n 'to]',\n '[P',\n 'change]',\n ']',\n '[U',\n ',]',\n '[L',\n 'as]',\n '[H',\n '[A',\n 'she]',\n '[P',\n 'stopped]',\n '[A',\n '[E',\n 'her]',\n '[E',\n 'exercise]',\n '[C',\n 'routines]',\n ']',\n ']',\n '[L',\n 'and]',\n '[H',\n '[A*',\n 'she]',\n '[P',\n 'gained]',\n '[A',\n 'weight]',\n '[U',\n '.]',\n ']']"
      ]
     },
     "execution_count": 23,
     "metadata": {},
     "output_type": "execute_result"
    }
   ],
   "source": [
    "a"
   ]
  },
  {
   "cell_type": "code",
   "execution_count": 8,
   "metadata": {},
   "outputs": [],
   "source": [
    "train_file1 = \"sample_data/train/672001.xml\"\n",
    "passage1 = list(read_passages(train_file1))\n",
    "p1 = passage1[0]"
   ]
  },
  {
   "cell_type": "code",
   "execution_count": 9,
   "metadata": {},
   "outputs": [
    {
     "data": {
      "text/plain": [
       "<ucca.core.Passage at 0x7feb86b09828>"
      ]
     },
     "execution_count": 9,
     "metadata": {},
     "output_type": "execute_result"
    }
   ],
   "source": [
    "p1"
   ]
  },
  {
   "cell_type": "code",
   "execution_count": 10,
   "metadata": {},
   "outputs": [],
   "source": [
    "l1 = p1._layers[\"1\"]"
   ]
  },
  {
   "cell_type": "code",
   "execution_count": 11,
   "metadata": {},
   "outputs": [],
   "source": [
    "node1 = l1.heads[0]"
   ]
  },
  {
   "cell_type": "code",
   "execution_count": 12,
   "metadata": {},
   "outputs": [],
   "source": [
    "s1 = str(node1)"
   ]
  },
  {
   "cell_type": "code",
   "execution_count": 13,
   "metadata": {},
   "outputs": [
    {
     "data": {
      "text/plain": [
       "\"[L With] [H [S IMPLICIT] [A [E six] [E [C number] [E one] ] [C albums] ] [U ,] [A* Carey] ] [H [A Carey] [F is] [S tied] [A [R with] [C [C Britney Spears] [N and] [C Janet Jackson] ] [E [R in] [E the] [C United States] ] [E [R for] [E the] [E [E third] [C most] ] [E [C number] [E one] ] [C albums] [E [R for] [E a] [E female] [C artist] ] ] ] [U ,] [A [R behind] [E [C [C Madonna] [E [R with] [C seven] ] ] [N and] [C [C Barbra Streisand] [R 's] [E nine] ] ] [E chart] [C toppers] [U .] ] ] \""
      ]
     },
     "execution_count": 13,
     "metadata": {},
     "output_type": "execute_result"
    }
   ],
   "source": [
    "s1"
   ]
  },
  {
   "cell_type": "code",
   "execution_count": 16,
   "metadata": {},
   "outputs": [
    {
     "name": "stdout",
     "output_type": "stream",
     "text": [
      "['[H', '[A', '[C', 'Carey]', '[N', 'and]', '[C', '[E', '[N', 'IMPLICIT]', '[C', 'actor]', '[U', '/]', '[C', 'comedian]', ']', '[C', 'Nick', 'Cannon]', ']', ']', '[P', 'met]', ']', '[L', 'while]', '[H', '[A', 'they]', '[P', 'shot]', '[A', '[E', 'her]', '[E', 'music]', '[C', 'video]', '[E', '[R', 'for]', '[E', 'her]', '[E', '[E', 'second]', '[C', 'single]', ']', '[U', ',]', '[U', '\"]', '[C', 'Bye', 'Bye]', ']', ']', '[U', '\"]', '[U', ',]', '[A', '[R', 'on]', '[E', 'an]', '[C', 'island]', '[E', '[R', 'off]', '[E', 'the]', '[E', '[C', 'coast]', '[R', 'of]', ']', '[C', 'Antigua]', '[U', '.]', ']', ']', ']']\n"
     ]
    }
   ],
   "source": [
    "train_file1 = \"sample_data/train/672003.xml\"\n",
    "passage1 = list(read_passages(train_file1))\n",
    "p1 = passage1[0]\n",
    "sent_passage = p1\n",
    "l1 = sent_passage._layers[\"1\"]\n",
    "node0 = l1.heads[0]\n",
    "linearized = str(node0).split()\n",
    "print(linearized)"
   ]
  },
  {
   "cell_type": "code",
   "execution_count": 18,
   "metadata": {},
   "outputs": [
    {
     "name": "stdout",
     "output_type": "stream",
     "text": [
      "[H\n[A\n[C\nCarey]\n[N\nand]\n[C\n[E\n[N\nIMPLICIT]\n[C\nactor]\n[U\n/]\n[C\ncomedian]\n]\n[C\nNick\nCannon]\n]\n]\n[P\nmet]\n]\n[L\nwhile]\n[H\n[A\nthey]\n[P\nshot]\n[A\n[E\nher]\n[E\nmusic]\n[C\nvideo]\n[E\n[R\nfor]\n[E\nher]\n[E\n[E\nsecond]\n[C\nsingle]\n]\n[U\n,]\n[U\n\"]\n[C\nBye\nBye]\n]\n]\n[U\n\"]\n[U\n,]\n[A\n[R\non]\n[E\nan]\n[C\nisland]\n[E\n[R\noff]\n[E\nthe]\n[E\n[C\ncoast]\n[R\nof]\n]\n[C\nAntigua]\n[U\n.]\n]\n]\n]\n"
     ]
    }
   ],
   "source": [
    "for i in linearized:\n",
    "    print(i)"
   ]
  },
  {
   "cell_type": "code",
   "execution_count": 21,
   "metadata": {},
   "outputs": [
    {
     "name": "stdout",
     "output_type": "stream",
     "text": [
      "['Carey', 'and', 'actor', '/', 'comedian', 'Nick', 'Cannon', 'met', 'while', 'they', 'shot', 'her', 'music', 'video', 'for', 'her', 'second', 'single', ',', '\"', 'Bye', 'Bye', '\"', ',', 'on', 'an', 'island', 'off', 'the', 'coast', 'of', 'Antigua', '.']\n"
     ]
    }
   ],
   "source": [
    "l0 = sent_passage._layers[\"0\"]\n",
    "words_in_text = [i.text for i in l0.all]\n",
    "print(words_in_text)"
   ]
  },
  {
   "cell_type": "code",
   "execution_count": 23,
   "metadata": {},
   "outputs": [
    {
     "name": "stdout",
     "output_type": "stream",
     "text": [
      "[H\n[D\n[R\nOn]\n[C\n[X\nApril]\n[X\n30]\n[U\n[X\n,]\n]\n2008]\n]\n[U\n,]\n[A\nCarey]\n[P\nmarried]\n[A\nCannon]\n[A\n[R\nat]\n[E\nher]\n[E\nprivate]\n[C\nestate]\n[E\n[R\non]\n[C\n[X\nWindermere]\n[X\nIsland]\n]\n[E\n[R\nin]\n[C\n[X\nThe]\n[X\nBahamas]\n]\n[U\n.]\n]\n]\n]\n]\n"
     ]
    }
   ],
   "source": [
    "l = ['[H', '[D', '[R', 'On]', '[C', '[X', 'April]', '[X', '30]', '[U', '[X', ',]', ']', '2008]', ']', '[U', ',]', '[A', 'Carey]', '[P', 'married]', '[A', 'Cannon]', '[A', '[R', 'at]', '[E', 'her]', '[E', 'private]', '[C', 'estate]', '[E', '[R', 'on]', '[C', '[X', 'Windermere]', '[X', 'Island]', ']', '[E', '[R', 'in]', '[C', '[X', 'The]', '[X', 'Bahamas]', ']', '[U', '.]', ']', ']', ']', ']']\n",
    "for i in l:\n",
    "    print(i)"
   ]
  },
  {
   "cell_type": "code",
   "execution_count": 48,
   "metadata": {},
   "outputs": [
    {
     "name": "stdout",
     "output_type": "stream",
     "text": [
      "[H [A Jolie] [F has] [P [F had] ... [C relationship] ] [D [E a] [C difficult] ] ... [A [R with] [E her] [C father] [U .] ] ] \n"
     ]
    }
   ],
   "source": [
    "train_file1 = \"/home/dianyu/Desktop/UCCA/train&dev-data-17.9/train_xml/UCCA_English-Wiki/104005.xml\"\n",
    "passage1 = list(read_passages(train_file1))\n",
    "p1 = passage1[0]\n",
    "print(p1)"
   ]
  },
  {
   "cell_type": "code",
   "execution_count": 28,
   "metadata": {},
   "outputs": [
    {
     "name": "stdout",
     "output_type": "stream",
     "text": [
      "\" She also began experimenting with drugs ; by the age of 20 , she had tried \" just about every drug possible , \" including heroin .\n"
     ]
    }
   ],
   "source": [
    "print(\" \".join(j for j in [i.text for i in l0.all]))"
   ]
  },
  {
   "cell_type": "code",
   "execution_count": 30,
   "metadata": {},
   "outputs": [
    {
     "name": "stdout",
     "output_type": "stream",
     "text": [
      "[U \"] [H [A She] [D also] [D began] [P experimenting] [A [R with] [C drugs] ] ] [U ;] [L by] [H [A* She] [S [E the] [E age] [F of] [C 20] ] ] [U ,] [H [A she] [F had] [P tried] [U \"] [A [E [E [E just] [C about] ] [C every] ... [E possible] ] [C drug] ... [U ,] [U \"] [E [R including] [C heroin] [U .] ] ] ] \n"
     ]
    }
   ],
   "source": [
    "print(passage1[0])"
   ]
  },
  {
   "cell_type": "code",
   "execution_count": 32,
   "metadata": {},
   "outputs": [
    {
     "name": "stdout",
     "output_type": "stream",
     "text": [
      "[H\n[A\nJolie]\n[F\nwas]\n[X\n...]\n[P\n[X\ndisappointed]\n]\n[A\n[R\nwith]\n[E\nthe]\n[C\nfilm]\n]\n]\n[L\n[X\nso]\n[X\n...]\n[X\nthat]\n]\n[H\n[A\nshe]\n[F\ndid]\n[D\nnot]\n[P\naudition]\n[D\nagain]\n[D\n[R\nfor]\n[E\na]\n[C\nyear]\n[U\n.]\n]\n]\n"
     ]
    }
   ],
   "source": [
    "l = ['[H', '[A', 'Jolie]', '[F', 'was]', '[X', '...]', '[P', '[X', 'disappointed]', ']', '[A', '[R', 'with]', '[E', 'the]', '[C', 'film]', ']', ']', '[L', '[X', 'so]', '[X', '...]', '[X', 'that]', ']', '[H', '[A', 'she]', '[F', 'did]', '[D', 'not]', '[P', 'audition]', '[D', 'again]', '[D', '[R', 'for]', '[E', 'a]', '[C', 'year]', '[U', '.]', ']', ']']\n",
    "for i in l:\n",
    "    print(i)"
   ]
  },
  {
   "cell_type": "code",
   "execution_count": null,
   "metadata": {},
   "outputs": [],
   "source": []
  }
 ],
 "metadata": {
  "kernelspec": {
   "display_name": "Python 3",
   "language": "python",
   "name": "python3"
  },
  "language_info": {
   "codemirror_mode": {
    "name": "ipython",
    "version": 3
   },
   "file_extension": ".py",
   "mimetype": "text/x-python",
   "name": "python",
   "nbconvert_exporter": "python",
   "pygments_lexer": "ipython3",
   "version": "3.6.7"
  }
 },
 "nbformat": 4,
 "nbformat_minor": 1
}
